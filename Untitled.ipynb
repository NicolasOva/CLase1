{
 "cells": [
  {
   "cell_type": "code",
   "execution_count": 1,
   "metadata": {},
   "outputs": [
    {
     "name": "stdout",
     "output_type": "stream",
     "text": [
      "Hola mundo\n"
     ]
    }
   ],
   "source": [
    "print(\"Hola mundo\")"
   ]
  },
  {
   "cell_type": "code",
   "execution_count": 3,
   "metadata": {},
   "outputs": [
    {
     "name": "stdout",
     "output_type": "stream",
     "text": [
      "puede tomar cerveza\n"
     ]
    }
   ],
   "source": [
    "edad=19\n",
    "\n",
    "if edad>=18:\n",
    "    \n",
    "    print(\"puede tomar cerveza\")\n",
    "    \n",
    "else:\n",
    "    print(\"no puede tomar cerveza\")"
   ]
  },
  {
   "cell_type": "code",
   "execution_count": 4,
   "metadata": {},
   "outputs": [
    {
     "name": "stdout",
     "output_type": "stream",
     "text": [
      "ingrese edad: 19\n",
      "puede tomar cerveza\n"
     ]
    }
   ],
   "source": [
    "edad= int(input(\"ingrese edad: \"))\n",
    "\n",
    "if edad>=18:\n",
    "    \n",
    "    print(\"puede tomar cerveza\")\n",
    "    \n",
    "else:\n",
    "    print(\"no puede tomar cerveza\")"
   ]
  },
  {
   "cell_type": "code",
   "execution_count": 5,
   "metadata": {},
   "outputs": [
    {
     "ename": "IndentationError",
     "evalue": "expected an indented block (<ipython-input-5-c7106177ea7b>, line 4)",
     "output_type": "error",
     "traceback": [
      "\u001b[1;36m  File \u001b[1;32m\"<ipython-input-5-c7106177ea7b>\"\u001b[1;36m, line \u001b[1;32m4\u001b[0m\n\u001b[1;33m    print(\"puede tomar cerveza\")\u001b[0m\n\u001b[1;37m    ^\u001b[0m\n\u001b[1;31mIndentationError\u001b[0m\u001b[1;31m:\u001b[0m expected an indented block\n"
     ]
    }
   ],
   "source": [
    "def ejercicio1(edad):\n",
    "    if edad>=18:\n",
    "    \n",
    "    print(\"puede tomar cerveza\")\n",
    "    \n",
    "    else:\n",
    "    print(\"no puede tomar cerveza\")"
   ]
  },
  {
   "cell_type": "markdown",
   "metadata": {},
   "source": [
    "ejercicio2"
   ]
  },
  {
   "cell_type": "code",
   "execution_count": 9,
   "metadata": {},
   "outputs": [
    {
     "name": "stdout",
     "output_type": "stream",
     "text": [
      "compro aguila\n"
     ]
    }
   ],
   "source": [
    "marca='aguila'\n",
    "\n",
    "if marca == 'buweiser':\n",
    "    print('compro',marca)\n",
    "    \n",
    "elif marca == 'aguila':\n",
    "    print('compro',marca)\n",
    "    \n",
    "else: \n",
    "    print('no compro')\n"
   ]
  },
  {
   "cell_type": "code",
   "execution_count": 11,
   "metadata": {},
   "outputs": [
    {
     "name": "stdout",
     "output_type": "stream",
     "text": [
      "compro Aguila\n"
     ]
    }
   ],
   "source": [
    "marca='Aguila'\n",
    "\n",
    "if marca.lower() == 'buweiser':\n",
    "    print('compro',marca)\n",
    "    \n",
    "elif marca.lower()  == 'aguila':\n",
    "    print('compro',marca)\n",
    "    \n",
    "elif marca.lower()  == 'tecate':\n",
    "    print('compro',marca)\n",
    "    \n",
    "elif marca.lower()  == 'poker':\n",
    "    print('compro',marca)\n",
    "    \n",
    "else: \n",
    "    print('no compro')"
   ]
  },
  {
   "cell_type": "code",
   "execution_count": null,
   "metadata": {},
   "outputs": [],
   "source": []
  }
 ],
 "metadata": {
  "kernelspec": {
   "display_name": "Python 3",
   "language": "python",
   "name": "python3"
  },
  "language_info": {
   "codemirror_mode": {
    "name": "ipython",
    "version": 3
   },
   "file_extension": ".py",
   "mimetype": "text/x-python",
   "name": "python",
   "nbconvert_exporter": "python",
   "pygments_lexer": "ipython3",
   "version": "3.8.5"
  }
 },
 "nbformat": 4,
 "nbformat_minor": 4
}
